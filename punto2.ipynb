{
 "cells": [
  {
   "cell_type": "code",
   "execution_count": null,
   "metadata": {},
   "outputs": [],
   "source": [
    "## Inicialmente propongo como solución almacenar la imagen o matriz como lista de listas\n",
    "\n",
    "imagen_1 = [[0, 0, 1, 0, 0],\n",
    "            [1, 1, 1, 1, 1],\n",
    "            [0, 1, 1, 1, 0],\n",
    "            [1, 1, 0, 1, 1],\n",
    "            [1, 0, 0, 0, 1]]\n",
    "\n",
    "## Función que itera por cada fila y cada elemento de esa fila para contar cuántas veces el valor es 1 o 0.\n",
    "## Finalmente retorna un string para ajustarse al enunciado donde hay una '/' en la proporción\n",
    "\n",
    "\n",
    "def razon_blanconegro(imagen):\n",
    "    \n",
    "    num_total = len(imagen)*len(imagen[0])\n",
    "    num_blanco = 0\n",
    "    num_negro = 0\n",
    "    \n",
    "    for linea in imagen:\n",
    "        for columna in linea:\n",
    "            if columna == 1:\n",
    "                num_blanco += 1\n",
    "            elif columna == 0:\n",
    "                num_negro += 1\n",
    "    return str(int(((num_blanco/num_total)*100)))+'/'+str(int(((num_negro/num_total)*100)))\n",
    "\n",
    "\n",
    "razon_blanconegro(imagen_1)\n",
    "\"\"\"'60/40'\"\"\"\n",
    "\n",
    "\n",
    "# De cara a resolver el último apartado,decido que es mejor usar arrays de numpy, tras haber descartado la estructura anterior.\n",
    "\n",
    "\n",
    "import numpy as np\n",
    "\n",
    "original = np.array([[0, 0, 1, 0, 0],\n",
    "                    [1, 1, 1, 1, 1],\n",
    "                    [0, 1, 1, 1, 0],\n",
    "                    [1, 1, 0, 1, 1],\n",
    "                    [1, 0, 0, 0, 1]])\n",
    "\n",
    "patron1 = np.array([[1, 1],\n",
    "                  [0, 1]])\n",
    "\n",
    "patron2 = np.array([[1, 1],\n",
    "                  [1, 1]])\n",
    "\n",
    "patron3 = np.array([[0, 0],\n",
    "                  [0, 0]])\n",
    "\n",
    "patron4 = np.array([[0, 0, 1, 0, 0],\n",
    "                    [1, 1, 1, 1, 1],\n",
    "                    [0, 1, 1, 1, 0],\n",
    "                    [1, 1, 0, 1, 1],\n",
    "                    [1, 0, 0, 0, 1],\n",
    "                    [1, 1, 1, 1, 1]])\n",
    "\n",
    "## Primeramente confirmamos que la imagen patrón sea más pequeña que la imagen original con el atributo shape de los arrays de numpy.\n",
    "## En caso contrario realizamos una comparación de submatrices iterando en el rango proporcionado por el método shape.\n",
    "## SE retorna un string donde se inserta n, el número de repeticiones\n",
    "\n",
    "\n",
    "def repeticiones_patron(A, P):\n",
    "    \n",
    "    if P.shape[0] > A.shape[0] or P.shape[1] > A.shape[1]:\n",
    "        raise ValueError(f\"La imagen patrón es más grande que la original. Por favor, proporcione una imagen patrón más pequeña a {A.shape[0]} * {A.shape[1]}\")\n",
    "    \n",
    "    n = 0\n",
    "    for i in range(A.shape[0] - P.shape[0]):\n",
    "        for j in range(A.shape[1] - P.shape[1]):\n",
    "            n += np.all(A[i:(i+P.shape[0]), j:(j+P.shape[1])] == P)\n",
    "    \n",
    "    return f\"El patrón se encuentra {n} veces en la imagen original.\"\n",
    "\n",
    "\n",
    "\n",
    "repeticiones_patron(original, patron1)\n",
    "\"\"\"'El patrón se encuentra 2 veces en la imagen original.'\"\"\"\n",
    "repeticiones_patron(original, patron2)\n",
    "\"\"\"'El patrón se encuentra 2 veces en la imagen original.'\"\"\"\n",
    "repeticiones_patron(original, patron3)\n",
    "\"\"\"'El patrón se encuentra 0 veces en la imagen original.'\"\"\"\n",
    "repeticiones_patron(original, patron4)\n",
    "\"\"\"...\"\"\"\n",
    "\"\"\"ValueError: La imagen patrón es más grande que la original. Por favor, proporcione una imagen patrón más pequeña a 5 * 5\"\"\"\n",
    "\n",
    "\n",
    "## En todos los casos resulta la respuesta correcta excepto en el primero, donde en vez de 3, nos da 2.\n",
    "## Soy consciente de este error pero no he dado con la solución\n",
    "\n"
   ]
  },
  {
   "cell_type": "code",
   "execution_count": null,
   "metadata": {},
   "outputs": [],
   "source": []
  },
  {
   "cell_type": "code",
   "execution_count": null,
   "metadata": {},
   "outputs": [],
   "source": []
  },
  {
   "cell_type": "code",
   "execution_count": null,
   "metadata": {},
   "outputs": [],
   "source": []
  },
  {
   "cell_type": "code",
   "execution_count": 1,
   "metadata": {},
   "outputs": [],
   "source": [
    "imagen_1 = [[0, 0, 1, 0, 0],\n",
    "            [1, 1, 1, 1, 1],\n",
    "            [0, 1, 1, 1, 0],\n",
    "            [1, 1, 0, 1, 1],\n",
    "            [1, 0, 0, 0, 1]]"
   ]
  },
  {
   "cell_type": "code",
   "execution_count": 2,
   "metadata": {},
   "outputs": [
    {
     "data": {
      "text/plain": [
       "[[0, 0, 1, 0, 0],\n",
       " [1, 1, 1, 1, 1],\n",
       " [0, 1, 1, 1, 0],\n",
       " [1, 1, 0, 1, 1],\n",
       " [1, 0, 0, 0, 1]]"
      ]
     },
     "execution_count": 2,
     "metadata": {},
     "output_type": "execute_result"
    }
   ],
   "source": [
    "imagen_1"
   ]
  },
  {
   "cell_type": "code",
   "execution_count": 12,
   "metadata": {},
   "outputs": [],
   "source": [
    "def razon_blanconegro(imagen):\n",
    "    \n",
    "    num_total = len(imagen)*len(imagen[0])\n",
    "    num_blanco = 0\n",
    "    num_negro = 0\n",
    "    \n",
    "    for linea in imagen:\n",
    "        for columna in linea:\n",
    "            if columna == 1:\n",
    "                num_blanco += 1\n",
    "            elif columna == 0:\n",
    "                num_negro += 1\n",
    "    return str(int(((num_blanco/num_total)*100)))+'/'+str(int(((num_negro/num_total)*100)))"
   ]
  },
  {
   "cell_type": "code",
   "execution_count": 13,
   "metadata": {},
   "outputs": [
    {
     "data": {
      "text/plain": [
       "'60/40'"
      ]
     },
     "execution_count": 13,
     "metadata": {},
     "output_type": "execute_result"
    }
   ],
   "source": [
    "razon_blanconegro(imagen_1)"
   ]
  },
  {
   "cell_type": "code",
   "execution_count": null,
   "metadata": {},
   "outputs": [],
   "source": []
  },
  {
   "cell_type": "code",
   "execution_count": 60,
   "metadata": {},
   "outputs": [],
   "source": [
    "imagen_2 = [[0, 0],\n",
    "            [1, 1]]"
   ]
  },
  {
   "cell_type": "code",
   "execution_count": null,
   "metadata": {},
   "outputs": [],
   "source": []
  },
  {
   "cell_type": "code",
   "execution_count": 58,
   "metadata": {},
   "outputs": [],
   "source": [
    "def repeticiones(original, patron):\n",
    "    \n",
    "    if len(patron) > len(original) or len(patron[0]) > len(original[0]):\n",
    "        raise ValueError(f\"La imagen patrón es más grande que la original. Por favor, proporcione una imagen patrón más pequeña a {len(original)} * {len(original[0])}\")\n",
    "    \n",
    "    c = 0\n",
    "    \n",
    "    filas_patron = len(patron)\n",
    "    columnas_patron = len(patron[0])\n",
    "    \n",
    "    j = -1\n",
    "    i = -1\n",
    "    \n",
    "    for linea in range((filas_patron)-2):\n",
    "        j += 1\n",
    "        i = -1\n",
    "        for columna in range((columnas_patron)-2):\n",
    "            i += 1\n",
    "            igual = original[j][i]==patron[0][0] and linea[j][i+1]==patron[0][1]\n",
    "            if igual:\n",
    "                return True\n",
    "        \n",
    "    return False\n",
    "    \n",
    "    \n",
    "            \n",
    "            \n",
    "                \n",
    "            "
   ]
  },
  {
   "cell_type": "code",
   "execution_count": 26,
   "metadata": {},
   "outputs": [],
   "source": [
    "imagen_3 = [[0, 0, 1, 0, 0],\n",
    "            [1, 1, 1, 1, 1],\n",
    "            [0, 1, 1, 1, 0],\n",
    "            [1, 1, 0, 1, 1],\n",
    "            [1, 0, 0, 0, 1],\n",
    "            [1, 0, 0, 0, 1]]"
   ]
  },
  {
   "cell_type": "code",
   "execution_count": 61,
   "metadata": {},
   "outputs": [
    {
     "data": {
      "text/plain": [
       "False"
      ]
     },
     "execution_count": 61,
     "metadata": {},
     "output_type": "execute_result"
    }
   ],
   "source": [
    "repeticiones(imagen_1, imagen_2)"
   ]
  },
  {
   "cell_type": "code",
   "execution_count": 27,
   "metadata": {},
   "outputs": [
    {
     "ename": "ValueError",
     "evalue": "La imagen patrón es más grande que la original. Por favor, proporcione una imagen patrón más pequeña a 5 * 5",
     "output_type": "error",
     "traceback": [
      "\u001b[0;31m---------------------------------------------------------------------------\u001b[0m",
      "\u001b[0;31mValueError\u001b[0m                                Traceback (most recent call last)",
      "\u001b[0;32m<ipython-input-27-e78b9f8b223b>\u001b[0m in \u001b[0;36m<module>\u001b[0;34m\u001b[0m\n\u001b[0;32m----> 1\u001b[0;31m \u001b[0mrepeticiones\u001b[0m\u001b[0;34m(\u001b[0m\u001b[0mimagen_1\u001b[0m\u001b[0;34m,\u001b[0m \u001b[0mimagen_3\u001b[0m\u001b[0;34m)\u001b[0m\u001b[0;34m\u001b[0m\u001b[0;34m\u001b[0m\u001b[0m\n\u001b[0m",
      "\u001b[0;32m<ipython-input-21-804c49d602c9>\u001b[0m in \u001b[0;36mrepeticiones\u001b[0;34m(original, patron)\u001b[0m\n\u001b[1;32m      2\u001b[0m \u001b[0;34m\u001b[0m\u001b[0m\n\u001b[1;32m      3\u001b[0m     \u001b[0;32mif\u001b[0m \u001b[0mlen\u001b[0m\u001b[0;34m(\u001b[0m\u001b[0mpatron\u001b[0m\u001b[0;34m)\u001b[0m \u001b[0;34m>\u001b[0m \u001b[0mlen\u001b[0m\u001b[0;34m(\u001b[0m\u001b[0moriginal\u001b[0m\u001b[0;34m)\u001b[0m \u001b[0;32mor\u001b[0m \u001b[0mlen\u001b[0m\u001b[0;34m(\u001b[0m\u001b[0mpatron\u001b[0m\u001b[0;34m[\u001b[0m\u001b[0;36m0\u001b[0m\u001b[0;34m]\u001b[0m\u001b[0;34m)\u001b[0m \u001b[0;34m>\u001b[0m \u001b[0mlen\u001b[0m\u001b[0;34m(\u001b[0m\u001b[0moriginal\u001b[0m\u001b[0;34m[\u001b[0m\u001b[0;36m0\u001b[0m\u001b[0;34m]\u001b[0m\u001b[0;34m)\u001b[0m\u001b[0;34m:\u001b[0m\u001b[0;34m\u001b[0m\u001b[0;34m\u001b[0m\u001b[0m\n\u001b[0;32m----> 4\u001b[0;31m         \u001b[0;32mraise\u001b[0m \u001b[0mValueError\u001b[0m\u001b[0;34m(\u001b[0m\u001b[0;34mf\"La imagen patrón es más grande que la original. Por favor, proporcione una imagen patrón más pequeña a {len(original)} * {len(original[0])}\"\u001b[0m\u001b[0;34m)\u001b[0m\u001b[0;34m\u001b[0m\u001b[0;34m\u001b[0m\u001b[0m\n\u001b[0m\u001b[1;32m      5\u001b[0m \u001b[0;34m\u001b[0m\u001b[0m\n\u001b[1;32m      6\u001b[0m     \u001b[0mc\u001b[0m \u001b[0;34m=\u001b[0m \u001b[0;36m0\u001b[0m\u001b[0;34m\u001b[0m\u001b[0;34m\u001b[0m\u001b[0m\n",
      "\u001b[0;31mValueError\u001b[0m: La imagen patrón es más grande que la original. Por favor, proporcione una imagen patrón más pequeña a 5 * 5"
     ]
    }
   ],
   "source": [
    "repeticiones(imagen_1, imagen_3)"
   ]
  },
  {
   "cell_type": "code",
   "execution_count": null,
   "metadata": {},
   "outputs": [],
   "source": []
  },
  {
   "cell_type": "code",
   "execution_count": 1,
   "metadata": {},
   "outputs": [],
   "source": [
    "import numpy as np"
   ]
  },
  {
   "cell_type": "code",
   "execution_count": 2,
   "metadata": {},
   "outputs": [],
   "source": [
    "original = np.array([[0, 0, 1, 0, 0],\n",
    "                    [1, 1, 1, 1, 1],\n",
    "                    [0, 1, 1, 1, 0],\n",
    "                    [1, 1, 0, 1, 1],\n",
    "                    [1, 0, 0, 0, 1]])"
   ]
  },
  {
   "cell_type": "code",
   "execution_count": 4,
   "metadata": {},
   "outputs": [
    {
     "data": {
      "text/plain": [
       "array([[0, 0, 1, 0, 0],\n",
       "       [1, 1, 1, 1, 1],\n",
       "       [0, 1, 1, 1, 0],\n",
       "       [1, 1, 0, 1, 1],\n",
       "       [1, 0, 0, 0, 1]])"
      ]
     },
     "execution_count": 4,
     "metadata": {},
     "output_type": "execute_result"
    }
   ],
   "source": [
    "original"
   ]
  },
  {
   "cell_type": "code",
   "execution_count": 8,
   "metadata": {},
   "outputs": [],
   "source": [
    "patron = np.array([[1, 1],\n",
    "                  [0, 1]])"
   ]
  },
  {
   "cell_type": "code",
   "execution_count": 4,
   "metadata": {},
   "outputs": [
    {
     "data": {
      "text/plain": [
       "array([[0, 0],\n",
       "       [0, 0]])"
      ]
     },
     "execution_count": 4,
     "metadata": {},
     "output_type": "execute_result"
    }
   ],
   "source": [
    "patron"
   ]
  },
  {
   "cell_type": "code",
   "execution_count": 39,
   "metadata": {},
   "outputs": [],
   "source": [
    "def repeticiones_np(original, patron):\n",
    "    for elem in original:\n",
    "        print(elem[])\n",
    "    "
   ]
  },
  {
   "cell_type": "code",
   "execution_count": 40,
   "metadata": {},
   "outputs": [
    {
     "name": "stdout",
     "output_type": "stream",
     "text": [
      "[0, 0, 1, 0, 0]\n",
      "[1, 1, 1, 1, 1]\n",
      "[0, 1, 1, 1, 0]\n",
      "[1, 1, 0, 1, 1]\n",
      "[1, 0, 0, 0, 1]\n"
     ]
    }
   ],
   "source": [
    "repeticiones_np(imagen_1, imagen_2)"
   ]
  },
  {
   "cell_type": "code",
   "execution_count": null,
   "metadata": {},
   "outputs": [],
   "source": []
  },
  {
   "cell_type": "code",
   "execution_count": null,
   "metadata": {},
   "outputs": [],
   "source": []
  },
  {
   "cell_type": "code",
   "execution_count": 9,
   "metadata": {},
   "outputs": [
    {
     "name": "stdout",
     "output_type": "stream",
     "text": [
      "Pattern 'P' found 2 times in 'A'.\n"
     ]
    }
   ],
   "source": [
    "A = original\n",
    "P = patron\n",
    "n = 0\n",
    "for i in range(A.shape[0] - P.shape[0]):\n",
    "    for j in range(A.shape[1] - P.shape[1]):\n",
    "        n += np.all(A[i:(i+P.shape[0]), j:(j+P.shape[1])] == P)\n",
    "print(f\"Pattern 'P' found {n} times in 'A'.\")"
   ]
  },
  {
   "cell_type": "code",
   "execution_count": 16,
   "metadata": {},
   "outputs": [],
   "source": [
    "def repeticiones_patron(A, P):\n",
    "    \n",
    "    if P.shape[0] > A.shape[0] or P.shape[1] > A.shape[1]:\n",
    "        raise ValueError(f\"La imagen patrón es más grande que la original. Por favor, proporcione una imagen patrón más pequeña a {A.shape[0]} * {A.shape[1]}\")\n",
    "    \n",
    "    n = 0\n",
    "    for i in range(A.shape[0] - P.shape[0]):\n",
    "        for j in range(A.shape[1] - P.shape[1]):\n",
    "            n += np.all(A[i:(i+P.shape[0]), j:(j+P.shape[1])] == P)\n",
    "    \n",
    "    return f\"El patrón se encuentra {n} veces en la imagen original.\""
   ]
  },
  {
   "cell_type": "code",
   "execution_count": 10,
   "metadata": {},
   "outputs": [],
   "source": [
    "import numpy as np\n",
    "\n",
    "original = np.array([[0, 0, 1, 0, 0],\n",
    "                    [1, 1, 1, 1, 1],\n",
    "                    [0, 1, 1, 1, 0],\n",
    "                    [1, 1, 0, 1, 1],\n",
    "                    [1, 0, 0, 0, 1]])\n",
    "\n",
    "patron1 = np.array([[1, 1],\n",
    "                  [0, 1]])\n",
    "\n",
    "patron2 = np.array([[1, 1],\n",
    "                  [1, 1]])\n",
    "\n",
    "patron3 = np.array([[0, 0],\n",
    "                  [0, 0]])\n",
    "\n",
    "patron4 = np.array([[0, 0, 1, 0, 0],\n",
    "                    [1, 1, 1, 1, 1],\n",
    "                    [0, 1, 1, 1, 0],\n",
    "                    [1, 1, 0, 1, 1],\n",
    "                    [1, 0, 0, 0, 1],\n",
    "                    [1, 1, 1, 1, 1]])"
   ]
  },
  {
   "cell_type": "code",
   "execution_count": 12,
   "metadata": {},
   "outputs": [
    {
     "data": {
      "text/plain": [
       "'El patrón se encuentra 2 veces en la imagen original.'"
      ]
     },
     "execution_count": 12,
     "metadata": {},
     "output_type": "execute_result"
    }
   ],
   "source": [
    "repeticiones_patron(original, patron1)"
   ]
  },
  {
   "cell_type": "code",
   "execution_count": 13,
   "metadata": {},
   "outputs": [
    {
     "data": {
      "text/plain": [
       "'El patrón se encuentra 2 veces en la imagen original.'"
      ]
     },
     "execution_count": 13,
     "metadata": {},
     "output_type": "execute_result"
    }
   ],
   "source": [
    "repeticiones_patron(original, patron2)"
   ]
  },
  {
   "cell_type": "code",
   "execution_count": 14,
   "metadata": {},
   "outputs": [
    {
     "data": {
      "text/plain": [
       "'El patrón se encuentra 0 veces en la imagen original.'"
      ]
     },
     "execution_count": 14,
     "metadata": {},
     "output_type": "execute_result"
    }
   ],
   "source": [
    "repeticiones_patron(original, patron3)"
   ]
  },
  {
   "cell_type": "code",
   "execution_count": 17,
   "metadata": {},
   "outputs": [
    {
     "ename": "ValueError",
     "evalue": "La imagen patrón es más grande que la original. Por favor, proporcione una imagen patrón más pequeña a 5 * 5",
     "output_type": "error",
     "traceback": [
      "\u001b[0;31m---------------------------------------------------------------------------\u001b[0m",
      "\u001b[0;31mValueError\u001b[0m                                Traceback (most recent call last)",
      "\u001b[0;32m<ipython-input-17-68dad434abaa>\u001b[0m in \u001b[0;36m<module>\u001b[0;34m\u001b[0m\n\u001b[0;32m----> 1\u001b[0;31m \u001b[0mrepeticiones_patron\u001b[0m\u001b[0;34m(\u001b[0m\u001b[0moriginal\u001b[0m\u001b[0;34m,\u001b[0m \u001b[0mpatron4\u001b[0m\u001b[0;34m)\u001b[0m\u001b[0;34m\u001b[0m\u001b[0;34m\u001b[0m\u001b[0m\n\u001b[0m",
      "\u001b[0;32m<ipython-input-16-b548fa577439>\u001b[0m in \u001b[0;36mrepeticiones_patron\u001b[0;34m(A, P)\u001b[0m\n\u001b[1;32m      2\u001b[0m \u001b[0;34m\u001b[0m\u001b[0m\n\u001b[1;32m      3\u001b[0m     \u001b[0;32mif\u001b[0m \u001b[0mP\u001b[0m\u001b[0;34m.\u001b[0m\u001b[0mshape\u001b[0m\u001b[0;34m[\u001b[0m\u001b[0;36m0\u001b[0m\u001b[0;34m]\u001b[0m \u001b[0;34m>\u001b[0m \u001b[0mA\u001b[0m\u001b[0;34m.\u001b[0m\u001b[0mshape\u001b[0m\u001b[0;34m[\u001b[0m\u001b[0;36m0\u001b[0m\u001b[0;34m]\u001b[0m \u001b[0;32mor\u001b[0m \u001b[0mP\u001b[0m\u001b[0;34m.\u001b[0m\u001b[0mshape\u001b[0m\u001b[0;34m[\u001b[0m\u001b[0;36m1\u001b[0m\u001b[0;34m]\u001b[0m \u001b[0;34m>\u001b[0m \u001b[0mA\u001b[0m\u001b[0;34m.\u001b[0m\u001b[0mshape\u001b[0m\u001b[0;34m[\u001b[0m\u001b[0;36m1\u001b[0m\u001b[0;34m]\u001b[0m\u001b[0;34m:\u001b[0m\u001b[0;34m\u001b[0m\u001b[0;34m\u001b[0m\u001b[0m\n\u001b[0;32m----> 4\u001b[0;31m         \u001b[0;32mraise\u001b[0m \u001b[0mValueError\u001b[0m\u001b[0;34m(\u001b[0m\u001b[0;34mf\"La imagen patrón es más grande que la original. Por favor, proporcione una imagen patrón más pequeña a {A.shape[0]} * {A.shape[1]}\"\u001b[0m\u001b[0;34m)\u001b[0m\u001b[0;34m\u001b[0m\u001b[0;34m\u001b[0m\u001b[0m\n\u001b[0m\u001b[1;32m      5\u001b[0m \u001b[0;34m\u001b[0m\u001b[0m\n\u001b[1;32m      6\u001b[0m     \u001b[0mn\u001b[0m \u001b[0;34m=\u001b[0m \u001b[0;36m0\u001b[0m\u001b[0;34m\u001b[0m\u001b[0;34m\u001b[0m\u001b[0m\n",
      "\u001b[0;31mValueError\u001b[0m: La imagen patrón es más grande que la original. Por favor, proporcione una imagen patrón más pequeña a 5 * 5"
     ]
    }
   ],
   "source": [
    "repeticiones_patron(original, patron4)"
   ]
  },
  {
   "cell_type": "code",
   "execution_count": null,
   "metadata": {},
   "outputs": [],
   "source": []
  }
 ],
 "metadata": {
  "kernelspec": {
   "display_name": "Python 3",
   "language": "python",
   "name": "python3"
  },
  "language_info": {
   "codemirror_mode": {
    "name": "ipython",
    "version": 3
   },
   "file_extension": ".py",
   "mimetype": "text/x-python",
   "name": "python",
   "nbconvert_exporter": "python",
   "pygments_lexer": "ipython3",
   "version": "3.8.6"
  }
 },
 "nbformat": 4,
 "nbformat_minor": 4
}
