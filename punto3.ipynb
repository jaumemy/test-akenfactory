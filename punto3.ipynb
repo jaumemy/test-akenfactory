{
 "cells": [
  {
   "cell_type": "code",
   "execution_count": 147,
   "metadata": {},
   "outputs": [
    {
     "data": {
      "text/plain": [
       "(3, 109900000)"
      ]
     },
     "execution_count": 147,
     "metadata": {},
     "output_type": "execute_result"
    }
   ],
   "source": [
    "class Auto:\n",
    "    \n",
    "    def __init__(self, modelo, chasis, color, precio):\n",
    "        self.modelo = modelo\n",
    "        self.chasis = chasis\n",
    "        self.color = color\n",
    "        self.precio = precio\n",
    "\n",
    "\n",
    "auto1 = Auto('Logan', '9FBLSRADBFM343217', 'Rojo cereza', 25500000)\n",
    "auto2 = Auto('Peugeot 206', '7374FHDFSDFGD634', 'Azul electrico', 30000000)\n",
    "auto3 = Auto('Renault Megane', 'SDFSFSGSD334VF23', 'Rojo cereza', 19500000 )    \n",
    "auto4 = Auto('Tesla', 'SDFSF3545XCV23456', 'Negro', 95500000)\n",
    "auto5 = Auto('Nissan Pajero', 'DSDFGS33424XCXC', 'Rojo cereza', 45500000)\n",
    "auto6 = Auto('Peugeot 406', '454FGF454VHGB923GH', 'Blanco', 35000000)\n",
    "\n",
    "lista_autos = [auto1, auto2, auto3, auto4, auto5, auto6]\n",
    "\n",
    "\n",
    "def multiplicador_iva(valor):\n",
    "    if valor <= 20000000:\n",
    "        return 1.15\n",
    "    else:\n",
    "        sobrevalor = valor - 20000001\n",
    "        return ((sobrevalor//15000000)*0.05)+1.20\n",
    "    \n",
    "multiplicador_iva(65000000)\n",
    "#\"\"\"1.3\"\"\"\n",
    "\n",
    "\n",
    "\n",
    "def cantidad_color(color):\n",
    "    \n",
    "    c = 0\n",
    "    n = 0\n",
    "\n",
    "    for auto in lista_autos:\n",
    "        if color == auto.color:\n",
    "            n += 1\n",
    "            c += int(auto.precio * multiplicador_iva(auto.precio))\n",
    "            \n",
    "    \n",
    "    return (n, c)\n",
    "\n",
    "\n",
    "cantidad_color('Negro')\n",
    "#\"\"\"(1, 138475000.0)\"\"\"\n",
    "\n",
    "cantidad_color('Rojo cereza')\n",
    "#\"\"\"(3, 109900000.0)\"\"\"\n"
   ]
  },
  {
   "cell_type": "code",
   "execution_count": 3,
   "metadata": {},
   "outputs": [],
   "source": [
    "auto1 = Auto('Logan', '9FBLSRADBFM343217', 'Rojo cereza', 25500000)"
   ]
  },
  {
   "cell_type": "code",
   "execution_count": 7,
   "metadata": {},
   "outputs": [],
   "source": [
    "auto2 = Auto('Peugeot 206', '7374FHDFSDFGD634', 'Azul electrico', 30000000)"
   ]
  },
  {
   "cell_type": "code",
   "execution_count": 8,
   "metadata": {},
   "outputs": [],
   "source": [
    "auto3 = Auto('Renault Megane', 'SDFSFSGSD334VF23', 'Rojo cereza', 19500000 )"
   ]
  },
  {
   "cell_type": "code",
   "execution_count": 9,
   "metadata": {},
   "outputs": [],
   "source": [
    "auto4 = Auto('Tesla', 'SDFSF3545XCV23456', 'Negro', 95500000)"
   ]
  },
  {
   "cell_type": "code",
   "execution_count": 10,
   "metadata": {},
   "outputs": [],
   "source": [
    "auto5 = Auto('Nissan Pajero', 'DSDFGS33424XCXC', 'Rojo cereza', 45500000)"
   ]
  },
  {
   "cell_type": "code",
   "execution_count": 11,
   "metadata": {},
   "outputs": [],
   "source": [
    "auto6 = Auto('Peugeot 406', '454FGF454VHGB923GH', 'Blanco', 35000000)"
   ]
  },
  {
   "cell_type": "code",
   "execution_count": 13,
   "metadata": {},
   "outputs": [],
   "source": [
    "lista_autos = [auto1, auto2, auto3, auto4, auto5, auto6]"
   ]
  },
  {
   "cell_type": "code",
   "execution_count": 143,
   "metadata": {},
   "outputs": [],
   "source": [
    "def cantidad_color(color):\n",
    "    \n",
    "    c = 0\n",
    "    n = 0\n",
    "\n",
    "    for auto in lista_autos:\n",
    "        if color == auto.color:\n",
    "            n += 1\n",
    "            c += (auto.precio * multiplicador_iva(auto.precio))\n",
    "            \n",
    "    \n",
    "    return (n, c)"
   ]
  },
  {
   "cell_type": "code",
   "execution_count": 144,
   "metadata": {},
   "outputs": [
    {
     "data": {
      "text/plain": [
       "(1, 138475000.0)"
      ]
     },
     "execution_count": 144,
     "metadata": {},
     "output_type": "execute_result"
    }
   ],
   "source": [
    "cantidad_color('Negro')"
   ]
  },
  {
   "cell_type": "code",
   "execution_count": 145,
   "metadata": {},
   "outputs": [
    {
     "data": {
      "text/plain": [
       "(3, 109900000.0)"
      ]
     },
     "execution_count": 145,
     "metadata": {},
     "output_type": "execute_result"
    }
   ],
   "source": [
    "cantidad_color('Rojo cereza')"
   ]
  },
  {
   "cell_type": "code",
   "execution_count": 138,
   "metadata": {},
   "outputs": [],
   "source": [
    "def multiplicador_iva(valor):\n",
    "    if valor <= 20000000:\n",
    "        return 1.15\n",
    "    else:\n",
    "        sobrevalor = valor - 20000001\n",
    "        return ((sobrevalor//15000000)*0.05)+1.20\n",
    "        \n",
    "    "
   ]
  },
  {
   "cell_type": "code",
   "execution_count": 142,
   "metadata": {},
   "outputs": [
    {
     "data": {
      "text/plain": [
       "1.3"
      ]
     },
     "execution_count": 142,
     "metadata": {},
     "output_type": "execute_result"
    }
   ],
   "source": [
    "multiplicador_iva(65000000)"
   ]
  },
  {
   "cell_type": "code",
   "execution_count": null,
   "metadata": {},
   "outputs": [],
   "source": []
  }
 ],
 "metadata": {
  "kernelspec": {
   "display_name": "Python 3",
   "language": "python",
   "name": "python3"
  },
  "language_info": {
   "codemirror_mode": {
    "name": "ipython",
    "version": 3
   },
   "file_extension": ".py",
   "mimetype": "text/x-python",
   "name": "python",
   "nbconvert_exporter": "python",
   "pygments_lexer": "ipython3",
   "version": "3.8.6"
  }
 },
 "nbformat": 4,
 "nbformat_minor": 4
}
