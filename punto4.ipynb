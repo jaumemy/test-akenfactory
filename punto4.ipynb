{
 "cells": [
  {
   "cell_type": "code",
   "execution_count": 77,
   "metadata": {},
   "outputs": [
    {
     "data": {
      "text/plain": [
       "'True'"
      ]
     },
     "execution_count": 77,
     "metadata": {},
     "output_type": "execute_result"
    }
   ],
   "source": [
    "## Definimos a cada usuario o tuitero como un diccionario donde las keys son los otros usuarios y los values 0 o 1 para saber si lo sigue o no. Finalmente juntamos todos estos tuiteros en una lista, que es la red social en sí.\n",
    "## Se que no es el método más eficiente ya que implica iterar por todo constantemente pero fue con la opción que me sentía más seguro de resolverlo a día de hoy.\n",
    "\n",
    "Ana = {'str':'Ana', 'Ana':0, 'Beto':1, 'Carla':0, 'Diego':1, 'Emilia':0, 'Felipe':0}\n",
    "Beto = {'str':'Beto', 'Ana':0, 'Beto':0, 'Carla':1, 'Diego':1, 'Emilia':0, 'Felipe':1}\n",
    "Carla = {'str':'Carla', 'Ana':1, 'Beto':1, 'Carla':0, 'Diego':1, 'Emilia':1, 'Felipe':1}\n",
    "Diego = {'str':'Diego', 'Ana':0, 'Beto':0, 'Carla':0, 'Diego':0, 'Emilia':0, 'Felipe':0}\n",
    "Emilia = {'str':'Emilia', 'Ana':0, 'Beto':1, 'Carla':0, 'Diego':1, 'Emilia':0, 'Felipe':1}\n",
    "Felipe = {'str':'Felipe', 'Ana':1, 'Beto':0, 'Carla':1, 'Diego':1, 'Emilia':0, 'Felipe':0}\n",
    "lista_tuiteros = [Ana, Beto, Carla, Diego, Emilia, Felipe]\n",
    "\n",
    "\n",
    "## Función que itera por las keys del diccionario tuitero y añade 1 cada vez que el value es 1. Retorna la suma de valores 1\n",
    "\n",
    "def num_sigue(tuitero):\n",
    "    n_sigue = 0\n",
    "    for key in tuitero:\n",
    "        if tuitero[key]==1:\n",
    "            n_sigue += 1\n",
    "    return n_sigue\n",
    "\n",
    "num_sigue(Ana)\n",
    "\"\"\"2\"\"\"\n",
    "num_sigue(Felipe)\n",
    "\"\"\"3\"\"\"\n",
    "\n",
    "\n",
    "## Función que recibe un tuitero, itera por la lista de tuiteros, y para cada uno de ellos comprueba si siguen a dicho tuitero. Si es así, añade uno al contador y retorna ese valor final.\n",
    "\n",
    "def num_seguidores(tuitero):\n",
    "    n_seguidores = 0\n",
    "    for nombre in lista_tuiteros:\n",
    "        for key in nombre:\n",
    "            if nombre[key]==1 and key==tuitero['str']:\n",
    "                n_seguidores += 1\n",
    "    return n_seguidores\n",
    "\n",
    "num_seguidores(Ana)\n",
    "\"\"\"2\"\"\"\n",
    "num_seguidores(Felipe)\n",
    "\"\"\"2\"\"\"\n",
    "\n",
    "\n",
    "\n",
    "## Función que toma la red social, y va añadiendo a una lista que finalmente retornará, qué tuiteros siguen y son seguidos más veces que n, valor del número de usuarios en la red social.\n",
    "\n",
    "def tuiteros_activos(red_social):\n",
    "    n = len(red_social)\n",
    "    lista_tuiteros_activos = []\n",
    "    \n",
    "    for tuitero in red_social:\n",
    "        if num_sigue(tuitero)+num_seguidores(tuitero) >= n:\n",
    "            lista_tuiteros_activos.append(tuitero['str'])\n",
    "            \n",
    "    return lista_tuiteros_activos\n",
    "\n",
    "tuiteros_activos(lista_tuiteros)\n",
    "\"\"\"['Beto', 'Carla', 'Felipe']\"\"\"\n",
    "\n",
    "\n",
    "\n",
    "# Función que itera el diccionario de tuitero1 para ver si sigue a tuitero 2 y retorna un booleano.\n",
    "\n",
    "def a_sigue_b(tuitero1, tuitero2):\n",
    "    for key in tuitero1:\n",
    "        if tuitero1[key]==1 and key==tuitero2['str']:\n",
    "            return True\n",
    "    return False\n",
    "\n",
    "a_sigue_b(Ana, Diego)\n",
    "\"\"\"True\"\"\"\n",
    "\n",
    "\n",
    "## Finalmente, esta función aplica la función anterior en un sentido y en otro entre tuiteros y retorna un booleano siguiendo la lógica especificada en el enunciado del problema.\n",
    "## Tal y como está definida la función, recibe una red social como variable pero en este caso no se usa ya que la red social está definida anteriormente como una lista de diccionarios.\n",
    "## Fuera necesario, podría usarse la variable red_social para iterar por ella de la misma manera.\n",
    "## Retorna un valor booleano si ambos sentidos de seguimiento y no seguimiento se cumplen.\n",
    "\n",
    "def trio_seguimiento(red_social, tuitero1, tuitero2, tuitero3):\n",
    "    sentido_directo = a_sigue_b(tuitero1, tuitero2) and a_sigue_b(tuitero2, tuitero3)\n",
    "    sentido_indirecto = not(a_sigue_b(tuitero3, tuitero2) or a_sigue_b(tuitero2, tuitero1))\n",
    "    return sentido_directo and sentido_indirecto\n",
    "\n",
    "trio_seguimiento(lista_tuiteros, Diego, Beto, Felipe)\n",
    "\"\"\"False\"\"\"\n",
    "\n",
    "trio_seguimiento(lista_tuiteros, Ana, Beto, Felipe)\n",
    "\"\"\"True\"\"\""
   ]
  },
  {
   "cell_type": "code",
   "execution_count": null,
   "metadata": {},
   "outputs": [],
   "source": []
  },
  {
   "cell_type": "code",
   "execution_count": 44,
   "metadata": {},
   "outputs": [],
   "source": [
    "Ana = {'str':'Ana', 'Ana':0, 'Beto':1, 'Carla':0, 'Diego':1, 'Emilia':0, 'Felipe':0}"
   ]
  },
  {
   "cell_type": "code",
   "execution_count": 45,
   "metadata": {},
   "outputs": [],
   "source": [
    "Beto = {'str':'Beto', 'Ana':0, 'Beto':0, 'Carla':1, 'Diego':1, 'Emilia':0, 'Felipe':1}"
   ]
  },
  {
   "cell_type": "code",
   "execution_count": 46,
   "metadata": {},
   "outputs": [],
   "source": [
    "Carla = {'str':'Carla', 'Ana':1, 'Beto':1, 'Carla':0, 'Diego':1, 'Emilia':1, 'Felipe':1}"
   ]
  },
  {
   "cell_type": "code",
   "execution_count": 47,
   "metadata": {},
   "outputs": [],
   "source": [
    "Diego = {'str':'Diego', 'Ana':0, 'Beto':0, 'Carla':0, 'Diego':0, 'Emilia':0, 'Felipe':0}"
   ]
  },
  {
   "cell_type": "code",
   "execution_count": 48,
   "metadata": {},
   "outputs": [],
   "source": [
    "Emilia = {'str':'Emilia', 'Ana':0, 'Beto':1, 'Carla':0, 'Diego':1, 'Emilia':0, 'Felipe':1}"
   ]
  },
  {
   "cell_type": "code",
   "execution_count": 49,
   "metadata": {},
   "outputs": [],
   "source": [
    "Felipe = {'str':'Felipe', 'Ana':1, 'Beto':0, 'Carla':1, 'Diego':1, 'Emilia':0, 'Felipe':0}"
   ]
  },
  {
   "cell_type": "code",
   "execution_count": 50,
   "metadata": {},
   "outputs": [],
   "source": [
    "lista_tuiteros = [Ana, Beto, Carla, Diego, Emilia, Felipe]"
   ]
  },
  {
   "cell_type": "code",
   "execution_count": 51,
   "metadata": {},
   "outputs": [
    {
     "data": {
      "text/plain": [
       "[{'str': 'Ana',\n",
       "  'Ana': 0,\n",
       "  'Beto': 1,\n",
       "  'Carla': 0,\n",
       "  'Diego': 1,\n",
       "  'Emilia': 0,\n",
       "  'Felipe': 0},\n",
       " {'str': 'Beto',\n",
       "  'Ana': 0,\n",
       "  'Beto': 0,\n",
       "  'Carla': 1,\n",
       "  'Diego': 1,\n",
       "  'Emilia': 0,\n",
       "  'Felipe': 1},\n",
       " {'str': 'Carla',\n",
       "  'Ana': 1,\n",
       "  'Beto': 1,\n",
       "  'Carla': 0,\n",
       "  'Diego': 1,\n",
       "  'Emilia': 1,\n",
       "  'Felipe': 1},\n",
       " {'str': 'Diego',\n",
       "  'Ana': 0,\n",
       "  'Beto': 0,\n",
       "  'Carla': 0,\n",
       "  'Diego': 0,\n",
       "  'Emilia': 0,\n",
       "  'Felipe': 0},\n",
       " {'str': 'Emilia',\n",
       "  'Ana': 0,\n",
       "  'Beto': 1,\n",
       "  'Carla': 0,\n",
       "  'Diego': 1,\n",
       "  'Emilia': 0,\n",
       "  'Felipe': 1},\n",
       " {'str': 'Felipe',\n",
       "  'Ana': 1,\n",
       "  'Beto': 0,\n",
       "  'Carla': 1,\n",
       "  'Diego': 1,\n",
       "  'Emilia': 0,\n",
       "  'Felipe': 0}]"
      ]
     },
     "execution_count": 51,
     "metadata": {},
     "output_type": "execute_result"
    }
   ],
   "source": [
    "lista_tuiteros"
   ]
  },
  {
   "cell_type": "code",
   "execution_count": null,
   "metadata": {},
   "outputs": [],
   "source": []
  },
  {
   "cell_type": "code",
   "execution_count": 17,
   "metadata": {},
   "outputs": [],
   "source": [
    "def num_sigue(tuitero):\n",
    "    n_sigue = 0\n",
    "    for key in tuitero:\n",
    "        if tuitero[key]==1:\n",
    "            n_sigue += 1\n",
    "    return n_sigue"
   ]
  },
  {
   "cell_type": "code",
   "execution_count": 18,
   "metadata": {},
   "outputs": [
    {
     "data": {
      "text/plain": [
       "2"
      ]
     },
     "execution_count": 18,
     "metadata": {},
     "output_type": "execute_result"
    }
   ],
   "source": [
    "num_sigue(Ana)"
   ]
  },
  {
   "cell_type": "code",
   "execution_count": 20,
   "metadata": {},
   "outputs": [
    {
     "data": {
      "text/plain": [
       "3"
      ]
     },
     "execution_count": 20,
     "metadata": {},
     "output_type": "execute_result"
    }
   ],
   "source": [
    "num_sigue(Felipe)"
   ]
  },
  {
   "cell_type": "code",
   "execution_count": null,
   "metadata": {},
   "outputs": [],
   "source": []
  },
  {
   "cell_type": "code",
   "execution_count": 55,
   "metadata": {},
   "outputs": [],
   "source": [
    "def num_seguidores(tuitero):\n",
    "    n_seguidores = 0\n",
    "    for nombre in lista_tuiteros:\n",
    "        for key in nombre:\n",
    "            if nombre[key]==1 and key==tuitero['str']:\n",
    "                n_seguidores += 1\n",
    "    return n_seguidores"
   ]
  },
  {
   "cell_type": "code",
   "execution_count": 57,
   "metadata": {},
   "outputs": [
    {
     "data": {
      "text/plain": [
       "2"
      ]
     },
     "execution_count": 57,
     "metadata": {},
     "output_type": "execute_result"
    }
   ],
   "source": [
    "num_seguidores(Ana)"
   ]
  },
  {
   "cell_type": "code",
   "execution_count": 59,
   "metadata": {},
   "outputs": [
    {
     "data": {
      "text/plain": [
       "3"
      ]
     },
     "execution_count": 59,
     "metadata": {},
     "output_type": "execute_result"
    }
   ],
   "source": [
    "num_seguidores(Felipe)"
   ]
  },
  {
   "cell_type": "code",
   "execution_count": 65,
   "metadata": {},
   "outputs": [],
   "source": [
    "def tuiteros_activos(red_social):\n",
    "    n = len(red_social)\n",
    "    lista_tuiteros_activos = []\n",
    "    \n",
    "    for tuitero in red_social:\n",
    "        if num_sigue(tuitero)+num_seguidores(tuitero) >= n:\n",
    "            lista_tuiteros_activos.append(tuitero['str'])\n",
    "            \n",
    "    return lista_tuiteros_activos\n",
    "        \n",
    "    \n",
    "    "
   ]
  },
  {
   "cell_type": "code",
   "execution_count": 66,
   "metadata": {},
   "outputs": [
    {
     "data": {
      "text/plain": [
       "['Beto', 'Carla', 'Felipe']"
      ]
     },
     "execution_count": 66,
     "metadata": {},
     "output_type": "execute_result"
    }
   ],
   "source": [
    "tuiteros_activos(lista_tuiteros)"
   ]
  },
  {
   "cell_type": "code",
   "execution_count": null,
   "metadata": {},
   "outputs": [],
   "source": []
  },
  {
   "cell_type": "code",
   "execution_count": null,
   "metadata": {},
   "outputs": [],
   "source": []
  },
  {
   "cell_type": "code",
   "execution_count": 69,
   "metadata": {},
   "outputs": [],
   "source": [
    "def a_sigue_b(tuitero1, tuitero2):\n",
    "    for key in tuitero1:\n",
    "        if tuitero1[key]==1 and key==tuitero2['str']:\n",
    "            return True\n",
    "    return False"
   ]
  },
  {
   "cell_type": "code",
   "execution_count": 71,
   "metadata": {},
   "outputs": [
    {
     "data": {
      "text/plain": [
       "True"
      ]
     },
     "execution_count": 71,
     "metadata": {},
     "output_type": "execute_result"
    }
   ],
   "source": [
    "a_sigue_b(Ana, Diego)"
   ]
  },
  {
   "cell_type": "code",
   "execution_count": null,
   "metadata": {},
   "outputs": [],
   "source": []
  },
  {
   "cell_type": "code",
   "execution_count": 73,
   "metadata": {},
   "outputs": [],
   "source": [
    "def trio_seguimiento(red_social, tuitero1, tuitero2, tuitero3):\n",
    "    sentido_directo = a_sigue_b(tuitero1, tuitero2) and a_sigue_b(tuitero2, tuitero3)\n",
    "    sentido_indirecto = not(a_sigue_b(tuitero3, tuitero2) or a_sigue_b(tuitero2, tuitero1))\n",
    "    return sentido_directo and sentido_indirecto\n",
    "    "
   ]
  },
  {
   "cell_type": "code",
   "execution_count": 75,
   "metadata": {},
   "outputs": [
    {
     "data": {
      "text/plain": [
       "False"
      ]
     },
     "execution_count": 75,
     "metadata": {},
     "output_type": "execute_result"
    }
   ],
   "source": [
    "trio_seguimiento(lista_tuiteros, Diego, Beto, Felipe)"
   ]
  },
  {
   "cell_type": "code",
   "execution_count": 76,
   "metadata": {},
   "outputs": [
    {
     "data": {
      "text/plain": [
       "True"
      ]
     },
     "execution_count": 76,
     "metadata": {},
     "output_type": "execute_result"
    }
   ],
   "source": [
    "trio_seguimiento(lista_tuiteros, Ana, Beto, Felipe)"
   ]
  },
  {
   "cell_type": "code",
   "execution_count": null,
   "metadata": {},
   "outputs": [],
   "source": []
  },
  {
   "cell_type": "code",
   "execution_count": null,
   "metadata": {},
   "outputs": [],
   "source": [
    "def num_sigue(tuitero):\n",
    "    n_sigue = 0\n",
    "    for key in tuitero:\n",
    "        if tuitero[key]==1:\n",
    "            n_sigue += 1\n",
    "    return n_sigue"
   ]
  }
 ],
 "metadata": {
  "kernelspec": {
   "display_name": "Python 3",
   "language": "python",
   "name": "python3"
  },
  "language_info": {
   "codemirror_mode": {
    "name": "ipython",
    "version": 3
   },
   "file_extension": ".py",
   "mimetype": "text/x-python",
   "name": "python",
   "nbconvert_exporter": "python",
   "pygments_lexer": "ipython3",
   "version": "3.8.6"
  }
 },
 "nbformat": 4,
 "nbformat_minor": 4
}
