{
 "cells": [
  {
   "cell_type": "code",
   "execution_count": 82,
   "metadata": {},
   "outputs": [
    {
     "data": {
      "text/plain": [
       "(True, False)"
      ]
     },
     "execution_count": 82,
     "metadata": {},
     "output_type": "execute_result"
    }
   ],
   "source": [
    "## Problema resuelta con OOP\n",
    "\n",
    "## Inicializamos el círculo con radio y coordenadas del centro y usando el módulo math le añadimos el atributo de su área.\n",
    "\n",
    "import math\n",
    "\n",
    "class Circulo:\n",
    "    \n",
    "    def __init__(self, radio, coor_x, coor_y):\n",
    "        self.r = radio\n",
    "        self.x = coor_x\n",
    "        self.y = coor_y\n",
    "        self.area = math.pi*self.r**2\n",
    "        \n",
    "c0 = Circulo(3,3,3)\n",
    "c1 = Circulo(2,7,7)\n",
    "c2 = Circulo(3,8,3)\n",
    "\n",
    "## Función que toma dos objetos de clase Círculo, calcula la distancia entre centros y la compara con la suma de radios para ver si intersectan\n",
    "## Consideramos que dos círculos tangentes intersectan en ese punto\n",
    "## Finalmente se comparan las dos área y la función retorna dos valores booleanos, uno para ver si intersectan y otro si sus areas tienen el mismo valor.\n",
    "\n",
    "\n",
    "def inter_igual(ca, cb):\n",
    "    \n",
    "    d = math.sqrt((cb.x-ca.x)**2 + (cb.y-ca.y)**2)\n",
    "    inter = d <= ca.r + cb.r\n",
    "    \n",
    "    igual = ca.area == cb.area\n",
    "    \n",
    "    \n",
    "    \n",
    "    return inter, igual\n",
    "\n",
    "\n",
    "inter_igual(c0, c1)\n",
    "#\"\"\"(False, False)\"\"\"\n",
    "inter_igual(c0, c2)\n",
    "#\"\"\"(True, True)\"\"\"\n",
    "inter_igual(c1, c2)\n",
    "#\"\"\"(True, False)\"\"\""
   ]
  },
  {
   "cell_type": "code",
   "execution_count": 75,
   "metadata": {},
   "outputs": [],
   "source": [
    "c0 = Circulo(3,3,3)"
   ]
  },
  {
   "cell_type": "code",
   "execution_count": 76,
   "metadata": {},
   "outputs": [],
   "source": [
    "c1 = Circulo(2,7,7)"
   ]
  },
  {
   "cell_type": "code",
   "execution_count": 77,
   "metadata": {},
   "outputs": [],
   "source": [
    "c2 = Circulo(3,8,3)"
   ]
  },
  {
   "cell_type": "code",
   "execution_count": 78,
   "metadata": {},
   "outputs": [],
   "source": [
    "def inter_igual(ca, cb):\n",
    "    \n",
    "    d = math.sqrt((cb.x-ca.x)**2 + (cb.y-ca.y)**2)\n",
    "    inter = d <= ca.r + cb.r\n",
    "    \n",
    "    igual = ca.area == cb.area\n",
    "    \n",
    "    \n",
    "    \n",
    "    return inter, igual"
   ]
  },
  {
   "cell_type": "code",
   "execution_count": 79,
   "metadata": {},
   "outputs": [
    {
     "data": {
      "text/plain": [
       "(False, False)"
      ]
     },
     "execution_count": 79,
     "metadata": {},
     "output_type": "execute_result"
    }
   ],
   "source": [
    "inter_igual(c0, c1)"
   ]
  },
  {
   "cell_type": "code",
   "execution_count": 80,
   "metadata": {},
   "outputs": [
    {
     "data": {
      "text/plain": [
       "(True, True)"
      ]
     },
     "execution_count": 80,
     "metadata": {},
     "output_type": "execute_result"
    }
   ],
   "source": [
    "inter_igual(c0, c2)"
   ]
  },
  {
   "cell_type": "code",
   "execution_count": 81,
   "metadata": {},
   "outputs": [
    {
     "data": {
      "text/plain": [
       "(True, False)"
      ]
     },
     "execution_count": 81,
     "metadata": {},
     "output_type": "execute_result"
    }
   ],
   "source": [
    "inter_igual(c1, c2)"
   ]
  }
 ],
 "metadata": {
  "kernelspec": {
   "display_name": "Python 3",
   "language": "python",
   "name": "python3"
  },
  "language_info": {
   "codemirror_mode": {
    "name": "ipython",
    "version": 3
   },
   "file_extension": ".py",
   "mimetype": "text/x-python",
   "name": "python",
   "nbconvert_exporter": "python",
   "pygments_lexer": "ipython3",
   "version": "3.8.6"
  }
 },
 "nbformat": 4,
 "nbformat_minor": 4
}
